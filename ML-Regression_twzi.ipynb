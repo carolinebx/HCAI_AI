{
 "cells": [
  {
   "cell_type": "markdown",
   "id": "32086ee9-7811-470a-8262-f9cadaf2d7f2",
   "metadata": {},
   "source": [
    "Het uitvoeren van een machine learning model \n",
    "\n",
    "Naast de verschillende features is er ook gekeken naar de verschillende soorten machine learning modellen die gebruikt kunnen worden. In eerder uitgevoerd onderzoek waarbij de energieconsumptie in gebouwen voorspeld wordt, blijkt dat een regressie model effectief is om de energie consumptie te voorspellen aan de hand van weer features. Voor een regressie model is er historische data nodig. Dit is verzameld voor de energie consumptie en de weer features. Daarnaast kan een regressie model de correlatie coëfficiënt bepalen. Hiermee kan er gekeken worden of er een relatie is tussen de features en de energieconsumptie (Zhao, 2012). \n",
    "\n",
    "Vanwege deze redenen is er gekozen om gebruik te maken van een regressie model (Gupta, 2022) met verschillende features. In dit machine learning model is er voorspeld op basis van de features temperatuur, wind, zonuren en inflatie. Deze features zijn meegenomen omdat er onderzocht is dat er een relatie is tussen deze factoren (Deze informatie is afkomstig uit het geschreven paper).\n"
   ]
  },
  {
   "cell_type": "code",
   "execution_count": 15,
   "id": "55e88eb3-8d11-4410-81cb-0e81daefaaa6",
   "metadata": {},
   "outputs": [],
   "source": [
    "import numpy as np\n",
    "import pandas as pd\n",
    "import seaborn as sns\n",
    "import matplotlib.pyplot as plt\n",
    "from sklearn import preprocessing, svm\n",
    "from sklearn.model_selection import train_test_split\n",
    "from sklearn.linear_model import LinearRegression\n",
    "from sklearn.metrics import r2_score\n",
    "from sklearn.metrics import mean_squared_error, mean_absolute_error"
   ]
  },
  {
   "cell_type": "markdown",
   "id": "bbe8af87-2f23-4e32-94eb-263cf5abbce0",
   "metadata": {},
   "source": [
    "De dataset waarbij de features de waarde van de laatste maand hebben wordt opgehaald en leesbaar gemaakt. Omdat in dit regressie model alleen de features temperatuur, wind, zon en inflatie worden meegenomen worden de andere features uit de dataset verwijderd."
   ]
  },
  {
   "cell_type": "code",
   "execution_count": 16,
   "id": "9927f020-6863-4c50-aa4e-ac60e8e9d2ed",
   "metadata": {},
   "outputs": [],
   "source": [
    "dataset = pd.read_csv('Data_laatste_maand.csv')"
   ]
  },
  {
   "cell_type": "code",
   "execution_count": 17,
   "id": "d1838db1-f3bb-47d0-96c5-ee455f17bfd6",
   "metadata": {},
   "outputs": [
    {
     "data": {
      "text/html": [
       "<div>\n",
       "<style scoped>\n",
       "    .dataframe tbody tr th:only-of-type {\n",
       "        vertical-align: middle;\n",
       "    }\n",
       "\n",
       "    .dataframe tbody tr th {\n",
       "        vertical-align: top;\n",
       "    }\n",
       "\n",
       "    .dataframe thead th {\n",
       "        text-align: right;\n",
       "    }\n",
       "</style>\n",
       "<table border=\"1\" class=\"dataframe\">\n",
       "  <thead>\n",
       "    <tr style=\"text-align: right;\">\n",
       "      <th></th>\n",
       "      <th>Datum</th>\n",
       "      <th>NettoVerbruikBerekend_30</th>\n",
       "      <th>Temp_last_month</th>\n",
       "      <th>Wind_last_month</th>\n",
       "      <th>Zon_last_month</th>\n",
       "      <th>Infl_last_month</th>\n",
       "    </tr>\n",
       "  </thead>\n",
       "  <tbody>\n",
       "    <tr>\n",
       "      <th>0</th>\n",
       "      <td>2000-01</td>\n",
       "      <td>8847</td>\n",
       "      <td>NaN</td>\n",
       "      <td>NaN</td>\n",
       "      <td>NaN</td>\n",
       "      <td>NaN</td>\n",
       "    </tr>\n",
       "    <tr>\n",
       "      <th>1</th>\n",
       "      <td>2000-02</td>\n",
       "      <td>8235</td>\n",
       "      <td>4.329032</td>\n",
       "      <td>3.980645</td>\n",
       "      <td>1.806452</td>\n",
       "      <td>52.22</td>\n",
       "    </tr>\n",
       "    <tr>\n",
       "      <th>2</th>\n",
       "      <td>2000-03</td>\n",
       "      <td>8738</td>\n",
       "      <td>5.855172</td>\n",
       "      <td>4.296552</td>\n",
       "      <td>3.682759</td>\n",
       "      <td>52.29</td>\n",
       "    </tr>\n",
       "    <tr>\n",
       "      <th>3</th>\n",
       "      <td>2000-04</td>\n",
       "      <td>7912</td>\n",
       "      <td>6.796774</td>\n",
       "      <td>3.677419</td>\n",
       "      <td>2.583871</td>\n",
       "      <td>52.73</td>\n",
       "    </tr>\n",
       "    <tr>\n",
       "      <th>4</th>\n",
       "      <td>2000-05</td>\n",
       "      <td>8221</td>\n",
       "      <td>9.986667</td>\n",
       "      <td>2.840000</td>\n",
       "      <td>5.116667</td>\n",
       "      <td>52.74</td>\n",
       "    </tr>\n",
       "    <tr>\n",
       "      <th>...</th>\n",
       "      <td>...</td>\n",
       "      <td>...</td>\n",
       "      <td>...</td>\n",
       "      <td>...</td>\n",
       "      <td>...</td>\n",
       "      <td>...</td>\n",
       "    </tr>\n",
       "    <tr>\n",
       "      <th>259</th>\n",
       "      <td>2021-08</td>\n",
       "      <td>8981</td>\n",
       "      <td>17.987097</td>\n",
       "      <td>2.416129</td>\n",
       "      <td>6.264516</td>\n",
       "      <td>115.79</td>\n",
       "    </tr>\n",
       "    <tr>\n",
       "      <th>260</th>\n",
       "      <td>2021-09</td>\n",
       "      <td>9030</td>\n",
       "      <td>16.935484</td>\n",
       "      <td>2.677419</td>\n",
       "      <td>5.325806</td>\n",
       "      <td>117.17</td>\n",
       "    </tr>\n",
       "    <tr>\n",
       "      <th>261</th>\n",
       "      <td>2021-10</td>\n",
       "      <td>9410</td>\n",
       "      <td>15.930000</td>\n",
       "      <td>2.160000</td>\n",
       "      <td>5.940000</td>\n",
       "      <td>123.29</td>\n",
       "    </tr>\n",
       "    <tr>\n",
       "      <th>262</th>\n",
       "      <td>2021-11</td>\n",
       "      <td>9678</td>\n",
       "      <td>11.612903</td>\n",
       "      <td>3.045161</td>\n",
       "      <td>3.945161</td>\n",
       "      <td>136.56</td>\n",
       "    </tr>\n",
       "    <tr>\n",
       "      <th>263</th>\n",
       "      <td>2021-12</td>\n",
       "      <td>10047</td>\n",
       "      <td>7.380000</td>\n",
       "      <td>2.383333</td>\n",
       "      <td>1.946667</td>\n",
       "      <td>163.61</td>\n",
       "    </tr>\n",
       "  </tbody>\n",
       "</table>\n",
       "<p>264 rows × 6 columns</p>\n",
       "</div>"
      ],
      "text/plain": [
       "       Datum  NettoVerbruikBerekend_30  Temp_last_month  Wind_last_month  \\\n",
       "0    2000-01                      8847              NaN              NaN   \n",
       "1    2000-02                      8235         4.329032         3.980645   \n",
       "2    2000-03                      8738         5.855172         4.296552   \n",
       "3    2000-04                      7912         6.796774         3.677419   \n",
       "4    2000-05                      8221         9.986667         2.840000   \n",
       "..       ...                       ...              ...              ...   \n",
       "259  2021-08                      8981        17.987097         2.416129   \n",
       "260  2021-09                      9030        16.935484         2.677419   \n",
       "261  2021-10                      9410        15.930000         2.160000   \n",
       "262  2021-11                      9678        11.612903         3.045161   \n",
       "263  2021-12                     10047         7.380000         2.383333   \n",
       "\n",
       "     Zon_last_month  Infl_last_month  \n",
       "0               NaN              NaN  \n",
       "1          1.806452            52.22  \n",
       "2          3.682759            52.29  \n",
       "3          2.583871            52.73  \n",
       "4          5.116667            52.74  \n",
       "..              ...              ...  \n",
       "259        6.264516           115.79  \n",
       "260        5.325806           117.17  \n",
       "261        5.940000           123.29  \n",
       "262        3.945161           136.56  \n",
       "263        1.946667           163.61  \n",
       "\n",
       "[264 rows x 6 columns]"
      ]
     },
     "execution_count": 17,
     "metadata": {},
     "output_type": "execute_result"
    }
   ],
   "source": [
    "dataset.drop(columns=['Unnamed: 0', 'Q_last_month', 'SP_last_month'], inplace=True)\n",
    "dataset"
   ]
  },
  {
   "cell_type": "markdown",
   "id": "9632c0c7-6638-44ea-a5ba-42bc204ee2ef",
   "metadata": {},
   "source": [
    "Doordat de waarde een plaats is opgeschoven is er voor de features in januari 200 geen waarde bekend. Met de dropna functie wordt deze rij uit de dataset gehaald."
   ]
  },
  {
   "cell_type": "code",
   "execution_count": 18,
   "id": "c589f3f0-9df1-4982-884c-13ed7be467fd",
   "metadata": {},
   "outputs": [],
   "source": [
    "dataset.dropna(inplace=True)"
   ]
  },
  {
   "cell_type": "markdown",
   "id": "56acaf29-0923-4996-92f0-001bae1e429a",
   "metadata": {},
   "source": [
    "Met de correlatie functie wordt er gekeken of er een relatie is tussen de features. Wanneer de waarde negatief is, is er sprake van een negatieve relatie. De relatie is sterk wanneer deze boven de 0.5 of onder de -0.5 ligt. Hoe dichter de waarde bij de 1 of -1 ligt, hoe sterker de relatie is. In de tabel is te zien dat het aantal zonuren de sterkste realtie heeft met de energieconsumptie."
   ]
  },
  {
   "cell_type": "code",
   "execution_count": 20,
   "id": "94a06b48-7cab-4a0d-b71a-9401eac1f89d",
   "metadata": {},
   "outputs": [
    {
     "data": {
      "text/html": [
       "<div>\n",
       "<style scoped>\n",
       "    .dataframe tbody tr th:only-of-type {\n",
       "        vertical-align: middle;\n",
       "    }\n",
       "\n",
       "    .dataframe tbody tr th {\n",
       "        vertical-align: top;\n",
       "    }\n",
       "\n",
       "    .dataframe thead th {\n",
       "        text-align: right;\n",
       "    }\n",
       "</style>\n",
       "<table border=\"1\" class=\"dataframe\">\n",
       "  <thead>\n",
       "    <tr style=\"text-align: right;\">\n",
       "      <th></th>\n",
       "      <th>NettoVerbruikBerekend_30</th>\n",
       "      <th>Temp_last_month</th>\n",
       "      <th>Wind_last_month</th>\n",
       "      <th>Zon_last_month</th>\n",
       "      <th>Infl_last_month</th>\n",
       "    </tr>\n",
       "  </thead>\n",
       "  <tbody>\n",
       "    <tr>\n",
       "      <th>NettoVerbruikBerekend_30</th>\n",
       "      <td>1.000000</td>\n",
       "      <td>-0.421654</td>\n",
       "      <td>0.212029</td>\n",
       "      <td>-0.603668</td>\n",
       "      <td>0.382205</td>\n",
       "    </tr>\n",
       "    <tr>\n",
       "      <th>Temp_last_month</th>\n",
       "      <td>-0.421654</td>\n",
       "      <td>1.000000</td>\n",
       "      <td>-0.598220</td>\n",
       "      <td>0.740483</td>\n",
       "      <td>0.021698</td>\n",
       "    </tr>\n",
       "    <tr>\n",
       "      <th>Wind_last_month</th>\n",
       "      <td>0.212029</td>\n",
       "      <td>-0.598220</td>\n",
       "      <td>1.000000</td>\n",
       "      <td>-0.543774</td>\n",
       "      <td>-0.061670</td>\n",
       "    </tr>\n",
       "    <tr>\n",
       "      <th>Zon_last_month</th>\n",
       "      <td>-0.603668</td>\n",
       "      <td>0.740483</td>\n",
       "      <td>-0.543774</td>\n",
       "      <td>1.000000</td>\n",
       "      <td>0.049243</td>\n",
       "    </tr>\n",
       "    <tr>\n",
       "      <th>Infl_last_month</th>\n",
       "      <td>0.382205</td>\n",
       "      <td>0.021698</td>\n",
       "      <td>-0.061670</td>\n",
       "      <td>0.049243</td>\n",
       "      <td>1.000000</td>\n",
       "    </tr>\n",
       "  </tbody>\n",
       "</table>\n",
       "</div>"
      ],
      "text/plain": [
       "                          NettoVerbruikBerekend_30  Temp_last_month  \\\n",
       "NettoVerbruikBerekend_30                  1.000000        -0.421654   \n",
       "Temp_last_month                          -0.421654         1.000000   \n",
       "Wind_last_month                           0.212029        -0.598220   \n",
       "Zon_last_month                           -0.603668         0.740483   \n",
       "Infl_last_month                           0.382205         0.021698   \n",
       "\n",
       "                          Wind_last_month  Zon_last_month  Infl_last_month  \n",
       "NettoVerbruikBerekend_30         0.212029       -0.603668         0.382205  \n",
       "Temp_last_month                 -0.598220        0.740483         0.021698  \n",
       "Wind_last_month                  1.000000       -0.543774        -0.061670  \n",
       "Zon_last_month                  -0.543774        1.000000         0.049243  \n",
       "Infl_last_month                 -0.061670        0.049243         1.000000  "
      ]
     },
     "execution_count": 20,
     "metadata": {},
     "output_type": "execute_result"
    }
   ],
   "source": [
    "dataset.corr()"
   ]
  },
  {
   "cell_type": "markdown",
   "id": "ac790909-7a0f-41df-8ad7-8049d9cd9a3b",
   "metadata": {},
   "source": [
    "De eerste stap in een regressie model is het bepalen van de X en y waarden. Vervolgens wordt de data verdeeld in een test dataset en een train dataset. Door dit te doen kan er met die waarden gecontroleerd worden of het model goed voorspeld. Met de r2 score wordt berekent hoeveel variantie er in de features wordt verklaard door de energieconsumptie. Hoe dichter de waarde bij de 1 ligt, hoe meer de features verklaard worden door de energieconsumptie. De root mean squared error geeft het verschil weer tussen de voorspelde en werkelijke waarde weer. "
   ]
  },
  {
   "cell_type": "code",
   "execution_count": 7,
   "id": "97247929-9f38-45f4-91ca-a7ed07fb1a09",
   "metadata": {},
   "outputs": [],
   "source": [
    "X = dataset[['Temp_last_month', 'Wind_last_month', 'Zon_last_month', 'Infl_last_month']].values\n",
    "y = dataset['NettoVerbruikBerekend_30'].values "
   ]
  },
  {
   "cell_type": "code",
   "execution_count": 8,
   "id": "f1de7da5-cc3c-4d44-a9e3-0a3fd1009869",
   "metadata": {},
   "outputs": [],
   "source": [
    "x_train, x_test, y_train, y_test = train_test_split(X, y, test_size = 0.2, random_state = 42)"
   ]
  },
  {
   "cell_type": "code",
   "execution_count": 9,
   "id": "54608478-f266-466b-81c1-aad169bf9d6f",
   "metadata": {},
   "outputs": [
    {
     "data": {
      "text/plain": [
       "array([ 8777.94986154,  9687.39540114,  9540.05361425,  9819.18543226,\n",
       "        9204.61196871,  9838.70359668,  9336.34889977,  9918.46459735,\n",
       "        8845.18526246,  8710.29167373,  9062.8084412 ,  8933.15568584,\n",
       "        9376.67929243,  9201.82739076,  9348.84982334, 10064.59032583,\n",
       "        9497.41983594,  8915.72246443,  9006.04981186,  8920.71453385,\n",
       "        9254.1558345 ,  9449.27073798,  8554.21931255,  9444.83056183,\n",
       "       10146.41053564,  8495.85892986,  8308.45843072,  8979.21327415,\n",
       "        9272.88087616,  8662.51146957,  8648.78455564,  9152.67250411,\n",
       "        8853.07872407,  9016.8887409 ,  8983.83353116,  9723.5817793 ,\n",
       "        9736.93291737,  9980.81378592,  8812.6561776 ,  8943.80469682,\n",
       "        9404.70530145,  8952.6194167 ,  9521.30033473,  9050.45848287,\n",
       "        8489.89698843,  9529.13659881,  9800.04421605,  8380.14706876,\n",
       "        9116.14389907,  9644.56145832,  9300.86960669,  9256.05526437,\n",
       "        8647.81111272])"
      ]
     },
     "execution_count": 9,
     "metadata": {},
     "output_type": "execute_result"
    }
   ],
   "source": [
    "LR = LinearRegression()\n",
    "LR.fit(x_train,y_train)\n",
    "y_prediction =  LR.predict(x_test)\n",
    "y_prediction"
   ]
  },
  {
   "cell_type": "code",
   "execution_count": 14,
   "id": "97985534-10a4-4da1-9b54-6e99cadaa09b",
   "metadata": {},
   "outputs": [
    {
     "name": "stdout",
     "output_type": "stream",
     "text": [
      "r2 score =  0.48261348312700214\n",
      "root_mean_squared error of =  437.1180875530664\n"
     ]
    }
   ],
   "source": [
    "score=r2_score(y_test,y_prediction)\n",
    "print('r2 score = ',score)\n",
    "print('root_mean_squared error of = ',np.sqrt(mean_squared_error(y_test,y_prediction)))"
   ]
  },
  {
   "cell_type": "markdown",
   "id": "803d0f25-b923-427f-a77e-0d6a9e01e94e",
   "metadata": {},
   "source": [
    "Voor dit regressie model is de r2 0.48, dit betekent dat de relatie tussen de features en de energieconsumptie vrij laag is. Omdat de energieconsumptie in kWh wordt uitgedrukt zijn de waardes getallen in de 1000, hierbij is een root mean squared error van 437.12 relatief laag."
   ]
  },
  {
   "cell_type": "markdown",
   "id": "fa5cdb64-fa6b-4451-a55e-771cd3bef2f4",
   "metadata": {},
   "source": [
    "Bronnenlijst\n",
    "Gupta, A. (2022, augustus 23). Python | Linear Regression using sklearn. Opgehaald van geeks for geeks: https://www.geeksforgeeks.org/python-linear-regression-using-sklearn/\n",
    "Zhao, H.-x. (2012, april 27). A review on the prediction of building energy consumption. Opgehaald van ScienceDirect: https://www.sciencedirect.com/science/article/pii/S1364032112001438"
   ]
  },
  {
   "cell_type": "code",
   "execution_count": null,
   "id": "491db0cd-2360-4486-af73-d7d2c7e5bfa9",
   "metadata": {},
   "outputs": [],
   "source": []
  }
 ],
 "metadata": {
  "kernelspec": {
   "display_name": "Python 3 (ipykernel)",
   "language": "python",
   "name": "python3"
  },
  "language_info": {
   "codemirror_mode": {
    "name": "ipython",
    "version": 3
   },
   "file_extension": ".py",
   "mimetype": "text/x-python",
   "name": "python",
   "nbconvert_exporter": "python",
   "pygments_lexer": "ipython3",
   "version": "3.10.6"
  }
 },
 "nbformat": 4,
 "nbformat_minor": 5
}
