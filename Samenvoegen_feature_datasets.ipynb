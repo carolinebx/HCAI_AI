{
 "cells": [
  {
   "cell_type": "markdown",
   "id": "a894cb99-777a-4aea-b951-bbf813d864d9",
   "metadata": {},
   "source": [
    "Het samenvoegen van verschillende datasets\n",
    "\n",
    "Het doel van dit notebook is om verschillende datasets samen te voegen zodat er één dataset ontstaat die gebruikt kan worden om analyses uit te voeren en een machine learning model mee te trainen. \n",
    "\n",
    "Voordat de data verzameld is, is er gekeken naar de verschillende features die invloed kunnen hebben op de energieconsumptie. De maandelijkse en wekelijkse data van de gevallen regen en temperatuur gerelateerde features hebben veel invloed (Guo, 2018). Daarnaast zijn er ook onderzoeken uitgevoerd waarbij de gemiddelde temperatuur, minimum en maximum temperatuur, vochtigheid, zonnestraling en windsnelheid meegenomen zijn (Zhao, 2012). Daarom zijn de factoren wind, gemiddelde temperatuur en het aantal zonuren per dag meegenomen in het trainen van het machine learning model. Deze features worden daarom ook in deze notebook opgehaald. De weer data is afkomstig van het KNMI, locatie de Bilt. Locatie de Bilt is gekozen omdat deze locatie als graadmeter in Nederland kan worden gezien.\n",
    "\n",
    "(Ook zijn er andere features opgehaald in het bestand \"ML-Regression_twzi_QSP.ipynb\" wordt uitgelegd waarom deze features meegenomen zijn)"
   ]
  },
  {
   "cell_type": "code",
   "execution_count": 1,
   "id": "0f0efbcb-2185-486c-afe4-4b7f46430ac9",
   "metadata": {},
   "outputs": [],
   "source": [
    "import pandas as pd\n",
    "import datetime"
   ]
  },
  {
   "cell_type": "markdown",
   "id": "e5ed7522-54e3-4e86-ae9a-fe81f7267e34",
   "metadata": {},
   "source": [
    "Als eerste worden de datasets van de verschillende features opgehaald. "
   ]
  },
  {
   "cell_type": "code",
   "execution_count": 11,
   "id": "d89c240d-2eb6-4c97-8cb3-ded7c559549b",
   "metadata": {},
   "outputs": [],
   "source": [
    "temperatuur = pd.read_csv('Dataset_temperatuur.csv')\n",
    "wind = pd.read_csv('WeatherMontlyAverage.csv')\n",
    "zonuren = pd.read_csv('zonuren1.csv')\n",
    "energie = pd.read_csv('MontlyEnergy.csv')\n",
    "inflatie = pd.read_csv('Inflatie.csv', delimiter=\";\")\n",
    "straling = pd.read_csv('zonuren_straling.csv', sep = ',')\n",
    "percentage_zonuren = pd.read_csv('zonuren_percentage.csv', sep = ',')"
   ]
  },
  {
   "cell_type": "markdown",
   "id": "de32440a-a5e2-4d19-9f82-ed8f2579a0cf",
   "metadata": {},
   "source": [
    "Vervolgens wordt in iedere feature de kolom naam veranderd naar Datum. Dit wordt gedaan zodat de datasets op de Datum kolom worden samengevoegd en dit kan alleen wanneer de datum in hetzelfde format staat en de kolom naam hetzelfde is. Daarnaast worden de overige kolommen uit de dataset verwijderd, zodat de samengevoegde dataset overzichtelijk is."
   ]
  },
  {
   "cell_type": "code",
   "execution_count": 12,
   "id": "3a0013df-2248-49ab-ae0f-385cb3117d90",
   "metadata": {},
   "outputs": [
    {
     "name": "stdout",
     "output_type": "stream",
     "text": [
      "     Datum         TG\n",
      "0  2000-01   4.329032\n",
      "1  2000-02   5.855172\n",
      "2  2000-03   6.796774\n",
      "3  2000-04   9.986667\n",
      "4  2000-05  14.732258\n"
     ]
    }
   ],
   "source": [
    "temperatuur.rename(columns = {'DateTime':'Datum'}, inplace = True)\n",
    "temperatuur.drop(columns=['Unnamed: 0','TN', 'TX'], inplace=True)\n",
    "print(temperatuur.head())"
   ]
  },
  {
   "cell_type": "code",
   "execution_count": 13,
   "id": "61b63bfb-0711-4f47-ab19-5296457717d0",
   "metadata": {},
   "outputs": [
    {
     "name": "stdout",
     "output_type": "stream",
     "text": [
      "     Datum     FHVEC\n",
      "0  2000-01  3.980645\n",
      "1  2000-02  4.296552\n",
      "2  2000-03  3.677419\n",
      "3  2000-04  2.840000\n",
      "4  2000-05  2.900000\n"
     ]
    }
   ],
   "source": [
    "wind.rename(columns = {'YYYYMMDD':'Datum'}, inplace = True)\n",
    "print(wind.head())"
   ]
  },
  {
   "cell_type": "code",
   "execution_count": 14,
   "id": "eb3320e8-9d80-47f2-a298-9441371d7e8e",
   "metadata": {},
   "outputs": [
    {
     "name": "stdout",
     "output_type": "stream",
     "text": [
      "     Datum  NettoVerbruikBerekend_30\n",
      "0  2000-01                      8847\n",
      "1  2000-02                      8235\n",
      "2  2000-03                      8738\n",
      "3  2000-04                      7912\n",
      "4  2000-05                      8221\n"
     ]
    }
   ],
   "source": [
    "energie['Perioden'] = energie['Perioden'].apply(lambda x: datetime.datetime.strptime(x, \"%YMM%m\").strftime(\"%Y-%m\"))\n",
    "energie.rename(columns = {'Perioden':'Datum'}, inplace = True)\n",
    "energie.drop(columns=['Unnamed: 0','ID'], inplace=True)\n",
    "print(energie.head())"
   ]
  },
  {
   "cell_type": "code",
   "execution_count": 15,
   "id": "40ff5bb0-018d-4561-bbe6-a76408d4509d",
   "metadata": {},
   "outputs": [
    {
     "name": "stdout",
     "output_type": "stream",
     "text": [
      "     Datum  CPI_energie\n",
      "0  2000-01        52.22\n",
      "1  2000-02        52.29\n",
      "2  2000-03        52.73\n",
      "3  2000-04        52.74\n",
      "4  2000-05        52.74\n"
     ]
    }
   ],
   "source": [
    "inflatie.rename(columns = {'Perioden':'Datum'}, inplace = True)\n",
    "inflatie.drop(columns=['Jaar','Maand','CPI_energie-100', 'CPI(afgeleid)_energie ', 'CPI_algemeen', \n",
    "                       'CPI(algemeen)_afgeleid', 'CPI_elektriciteit', 'CPI(elektriciteit)_afgeleid', \n",
    "                       'CPI_gas', 'CPI(gas)_afgeleid', 'CPI_energiejaarlijks'], inplace=True)\n",
    "print(inflatie.head())"
   ]
  },
  {
   "cell_type": "code",
   "execution_count": 16,
   "id": "9d5775a8-343b-452a-8a8e-723477d455ed",
   "metadata": {},
   "outputs": [
    {
     "name": "stdout",
     "output_type": "stream",
     "text": [
      "     Datum            Q\n",
      "0  2000-01   201.774194\n",
      "1  2000-02   484.310345\n",
      "2  2000-03   629.258065\n",
      "3  2000-04  1263.600000\n",
      "4  2000-05  1701.903226\n"
     ]
    }
   ],
   "source": [
    "straling.rename(columns = {'    Q':'Q'}, inplace = True)\n",
    "straling.drop(columns=['zonuren_dag'], inplace=True)\n",
    "print(straling.head())"
   ]
  },
  {
   "cell_type": "code",
   "execution_count": 17,
   "id": "4c4e7d82-4178-46af-abeb-952afba21fa9",
   "metadata": {},
   "outputs": [
    {
     "name": "stdout",
     "output_type": "stream",
     "text": [
      "     Datum         SP\n",
      "0  2000-01  21.838710\n",
      "1  2000-02  36.827586\n",
      "2  2000-03  21.967742\n",
      "3  2000-04  37.066667\n",
      "4  2000-05  43.354839\n"
     ]
    }
   ],
   "source": [
    "percentage_zonuren.rename(columns = {'    SP':'SP'}, inplace = True)\n",
    "percentage_zonuren.drop(columns=['zonuren_dag'], inplace=True)\n",
    "print(percentage_zonuren.head())"
   ]
  },
  {
   "cell_type": "markdown",
   "id": "134789d9-42c9-4899-b68b-f2e133d17be7",
   "metadata": {},
   "source": [
    "Met de functie merge worden de datasets van alle features samengevoegd. "
   ]
  },
  {
   "cell_type": "code",
   "execution_count": 18,
   "id": "4e4cdd0d-5edd-49ed-8c22-1cc68d8cc6ec",
   "metadata": {},
   "outputs": [
    {
     "data": {
      "text/html": [
       "<div>\n",
       "<style scoped>\n",
       "    .dataframe tbody tr th:only-of-type {\n",
       "        vertical-align: middle;\n",
       "    }\n",
       "\n",
       "    .dataframe tbody tr th {\n",
       "        vertical-align: top;\n",
       "    }\n",
       "\n",
       "    .dataframe thead th {\n",
       "        text-align: right;\n",
       "    }\n",
       "</style>\n",
       "<table border=\"1\" class=\"dataframe\">\n",
       "  <thead>\n",
       "    <tr style=\"text-align: right;\">\n",
       "      <th></th>\n",
       "      <th>Datum</th>\n",
       "      <th>TG</th>\n",
       "      <th>FHVEC</th>\n",
       "      <th>zonuren_dag</th>\n",
       "      <th>NettoVerbruikBerekend_30</th>\n",
       "      <th>CPI_energie</th>\n",
       "      <th>Q</th>\n",
       "      <th>SP</th>\n",
       "    </tr>\n",
       "  </thead>\n",
       "  <tbody>\n",
       "    <tr>\n",
       "      <th>0</th>\n",
       "      <td>2000-01</td>\n",
       "      <td>4.329032</td>\n",
       "      <td>3.980645</td>\n",
       "      <td>1.806452</td>\n",
       "      <td>8847</td>\n",
       "      <td>52.22</td>\n",
       "      <td>201.774194</td>\n",
       "      <td>21.838710</td>\n",
       "    </tr>\n",
       "    <tr>\n",
       "      <th>1</th>\n",
       "      <td>2000-02</td>\n",
       "      <td>5.855172</td>\n",
       "      <td>4.296552</td>\n",
       "      <td>3.682759</td>\n",
       "      <td>8235</td>\n",
       "      <td>52.29</td>\n",
       "      <td>484.310345</td>\n",
       "      <td>36.827586</td>\n",
       "    </tr>\n",
       "    <tr>\n",
       "      <th>2</th>\n",
       "      <td>2000-03</td>\n",
       "      <td>6.796774</td>\n",
       "      <td>3.677419</td>\n",
       "      <td>2.583871</td>\n",
       "      <td>8738</td>\n",
       "      <td>52.73</td>\n",
       "      <td>629.258065</td>\n",
       "      <td>21.967742</td>\n",
       "    </tr>\n",
       "    <tr>\n",
       "      <th>3</th>\n",
       "      <td>2000-04</td>\n",
       "      <td>9.986667</td>\n",
       "      <td>2.840000</td>\n",
       "      <td>5.116667</td>\n",
       "      <td>7912</td>\n",
       "      <td>52.74</td>\n",
       "      <td>1263.600000</td>\n",
       "      <td>37.066667</td>\n",
       "    </tr>\n",
       "    <tr>\n",
       "      <th>4</th>\n",
       "      <td>2000-05</td>\n",
       "      <td>14.732258</td>\n",
       "      <td>2.900000</td>\n",
       "      <td>6.780645</td>\n",
       "      <td>8221</td>\n",
       "      <td>52.74</td>\n",
       "      <td>1701.903226</td>\n",
       "      <td>43.354839</td>\n",
       "    </tr>\n",
       "    <tr>\n",
       "      <th>...</th>\n",
       "      <td>...</td>\n",
       "      <td>...</td>\n",
       "      <td>...</td>\n",
       "      <td>...</td>\n",
       "      <td>...</td>\n",
       "      <td>...</td>\n",
       "      <td>...</td>\n",
       "      <td>...</td>\n",
       "    </tr>\n",
       "    <tr>\n",
       "      <th>259</th>\n",
       "      <td>2021-08</td>\n",
       "      <td>16.935484</td>\n",
       "      <td>2.677419</td>\n",
       "      <td>5.325806</td>\n",
       "      <td>8981</td>\n",
       "      <td>117.17</td>\n",
       "      <td>1391.612903</td>\n",
       "      <td>36.258065</td>\n",
       "    </tr>\n",
       "    <tr>\n",
       "      <th>260</th>\n",
       "      <td>2021-09</td>\n",
       "      <td>15.930000</td>\n",
       "      <td>2.160000</td>\n",
       "      <td>5.940000</td>\n",
       "      <td>9030</td>\n",
       "      <td>123.29</td>\n",
       "      <td>1165.900000</td>\n",
       "      <td>46.433333</td>\n",
       "    </tr>\n",
       "    <tr>\n",
       "      <th>261</th>\n",
       "      <td>2021-10</td>\n",
       "      <td>11.612903</td>\n",
       "      <td>3.045161</td>\n",
       "      <td>3.945161</td>\n",
       "      <td>9410</td>\n",
       "      <td>136.56</td>\n",
       "      <td>619.709677</td>\n",
       "      <td>36.774194</td>\n",
       "    </tr>\n",
       "    <tr>\n",
       "      <th>262</th>\n",
       "      <td>2021-11</td>\n",
       "      <td>7.380000</td>\n",
       "      <td>2.383333</td>\n",
       "      <td>1.946667</td>\n",
       "      <td>9678</td>\n",
       "      <td>163.61</td>\n",
       "      <td>276.566667</td>\n",
       "      <td>22.033333</td>\n",
       "    </tr>\n",
       "    <tr>\n",
       "      <th>263</th>\n",
       "      <td>2021-12</td>\n",
       "      <td>5.393548</td>\n",
       "      <td>3.067742</td>\n",
       "      <td>1.622581</td>\n",
       "      <td>10047</td>\n",
       "      <td>182.04</td>\n",
       "      <td>181.032258</td>\n",
       "      <td>20.806452</td>\n",
       "    </tr>\n",
       "  </tbody>\n",
       "</table>\n",
       "<p>264 rows × 8 columns</p>\n",
       "</div>"
      ],
      "text/plain": [
       "       Datum         TG     FHVEC  zonuren_dag  NettoVerbruikBerekend_30  \\\n",
       "0    2000-01   4.329032  3.980645     1.806452                      8847   \n",
       "1    2000-02   5.855172  4.296552     3.682759                      8235   \n",
       "2    2000-03   6.796774  3.677419     2.583871                      8738   \n",
       "3    2000-04   9.986667  2.840000     5.116667                      7912   \n",
       "4    2000-05  14.732258  2.900000     6.780645                      8221   \n",
       "..       ...        ...       ...          ...                       ...   \n",
       "259  2021-08  16.935484  2.677419     5.325806                      8981   \n",
       "260  2021-09  15.930000  2.160000     5.940000                      9030   \n",
       "261  2021-10  11.612903  3.045161     3.945161                      9410   \n",
       "262  2021-11   7.380000  2.383333     1.946667                      9678   \n",
       "263  2021-12   5.393548  3.067742     1.622581                     10047   \n",
       "\n",
       "     CPI_energie            Q         SP  \n",
       "0          52.22   201.774194  21.838710  \n",
       "1          52.29   484.310345  36.827586  \n",
       "2          52.73   629.258065  21.967742  \n",
       "3          52.74  1263.600000  37.066667  \n",
       "4          52.74  1701.903226  43.354839  \n",
       "..           ...          ...        ...  \n",
       "259       117.17  1391.612903  36.258065  \n",
       "260       123.29  1165.900000  46.433333  \n",
       "261       136.56   619.709677  36.774194  \n",
       "262       163.61   276.566667  22.033333  \n",
       "263       182.04   181.032258  20.806452  \n",
       "\n",
       "[264 rows x 8 columns]"
      ]
     },
     "execution_count": 18,
     "metadata": {},
     "output_type": "execute_result"
    }
   ],
   "source": [
    "alle_datasets = temperatuur.merge(wind, on='Datum') \\\n",
    "                                    .merge(zonuren, on='Datum')\\\n",
    "                                    .merge(energie, on='Datum')\\\n",
    "                                    .merge(inflatie, on='Datum')\\\n",
    "                                    .merge(straling, on='Datum')\\\n",
    "                                    .merge(percentage_zonuren, on='Datum')\n",
    "alle_datasets"
   ]
  },
  {
   "cell_type": "markdown",
   "id": "149ff2ca-eb79-44d4-b608-25002194df88",
   "metadata": {},
   "source": [
    "De samengevoegde dataset wordt opgeslagen."
   ]
  },
  {
   "cell_type": "code",
   "execution_count": 19,
   "id": "184a10f9-c718-4654-90b6-feffe848c852",
   "metadata": {},
   "outputs": [],
   "source": [
    "alle_datasets.to_csv('alle_datasets.csv')"
   ]
  },
  {
   "cell_type": "markdown",
   "id": "925d3995-51b6-4cf0-a1b2-3878eeccff0f",
   "metadata": {},
   "source": [
    "Bronnenlijst\n",
    "Guo, Z. (2018, juli 17). A deep learning model for short-term power load and probability density forecasting. Opgehaald van ScienceDirect: https://www.sciencedirect.com/science/article/pii/S0360544218313872\n",
    "Zhao, H.-x. (2012, april 27). A review on the prediction of building energy consumption. Opgehaald van ScienceDirect: https://www.sciencedirect.com/science/article/pii/S1364032112001438"
   ]
  }
 ],
 "metadata": {
  "kernelspec": {
   "display_name": "Python 3 (ipykernel)",
   "language": "python",
   "name": "python3"
  },
  "language_info": {
   "codemirror_mode": {
    "name": "ipython",
    "version": 3
   },
   "file_extension": ".py",
   "mimetype": "text/x-python",
   "name": "python",
   "nbconvert_exporter": "python",
   "pygments_lexer": "ipython3",
   "version": "3.10.6"
  }
 },
 "nbformat": 4,
 "nbformat_minor": 5
}
