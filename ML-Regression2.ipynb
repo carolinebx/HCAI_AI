{
 "cells": [
  {
   "cell_type": "code",
   "execution_count": 1,
   "id": "55e88eb3-8d11-4410-81cb-0e81daefaaa6",
   "metadata": {},
   "outputs": [],
   "source": [
    "import pandas as pd\n",
    "import numpy as np\n",
    "from sklearn.model_selection import train_test_split\n",
    "from sklearn.linear_model import LinearRegression\n",
    "from sklearn.metrics import r2_score\n",
    "import matplotlib.pyplot as plt"
   ]
  },
  {
   "cell_type": "code",
   "execution_count": 2,
   "id": "b84d7d44",
   "metadata": {},
   "outputs": [],
   "source": [
    "dataset = pd.read_csv('Data_laatste_maand.csv')"
   ]
  },
  {
   "cell_type": "code",
   "execution_count": 3,
   "id": "d1838db1-f3bb-47d0-96c5-ee455f17bfd6",
   "metadata": {},
   "outputs": [
    {
     "data": {
      "text/html": [
       "<div>\n",
       "<style scoped>\n",
       "    .dataframe tbody tr th:only-of-type {\n",
       "        vertical-align: middle;\n",
       "    }\n",
       "\n",
       "    .dataframe tbody tr th {\n",
       "        vertical-align: top;\n",
       "    }\n",
       "\n",
       "    .dataframe thead th {\n",
       "        text-align: right;\n",
       "    }\n",
       "</style>\n",
       "<table border=\"1\" class=\"dataframe\">\n",
       "  <thead>\n",
       "    <tr style=\"text-align: right;\">\n",
       "      <th></th>\n",
       "      <th>Datum</th>\n",
       "      <th>NettoVerbruikBerekend_30</th>\n",
       "      <th>Temp_last_month</th>\n",
       "      <th>Wind_last_month</th>\n",
       "      <th>Zon_last_month</th>\n",
       "      <th>Infl_last_month</th>\n",
       "    </tr>\n",
       "  </thead>\n",
       "  <tbody>\n",
       "    <tr>\n",
       "      <th>1</th>\n",
       "      <td>2000-02</td>\n",
       "      <td>8235</td>\n",
       "      <td>4.329032</td>\n",
       "      <td>3.980645</td>\n",
       "      <td>1.806452</td>\n",
       "      <td>52.22</td>\n",
       "    </tr>\n",
       "    <tr>\n",
       "      <th>2</th>\n",
       "      <td>2000-03</td>\n",
       "      <td>8738</td>\n",
       "      <td>5.855172</td>\n",
       "      <td>4.296552</td>\n",
       "      <td>3.682759</td>\n",
       "      <td>52.29</td>\n",
       "    </tr>\n",
       "    <tr>\n",
       "      <th>3</th>\n",
       "      <td>2000-04</td>\n",
       "      <td>7912</td>\n",
       "      <td>6.796774</td>\n",
       "      <td>3.677419</td>\n",
       "      <td>2.583871</td>\n",
       "      <td>52.73</td>\n",
       "    </tr>\n",
       "    <tr>\n",
       "      <th>4</th>\n",
       "      <td>2000-05</td>\n",
       "      <td>8221</td>\n",
       "      <td>9.986667</td>\n",
       "      <td>2.840000</td>\n",
       "      <td>5.116667</td>\n",
       "      <td>52.74</td>\n",
       "    </tr>\n",
       "    <tr>\n",
       "      <th>5</th>\n",
       "      <td>2000-06</td>\n",
       "      <td>7822</td>\n",
       "      <td>14.732258</td>\n",
       "      <td>2.900000</td>\n",
       "      <td>6.780645</td>\n",
       "      <td>52.74</td>\n",
       "    </tr>\n",
       "    <tr>\n",
       "      <th>...</th>\n",
       "      <td>...</td>\n",
       "      <td>...</td>\n",
       "      <td>...</td>\n",
       "      <td>...</td>\n",
       "      <td>...</td>\n",
       "      <td>...</td>\n",
       "    </tr>\n",
       "    <tr>\n",
       "      <th>259</th>\n",
       "      <td>2021-08</td>\n",
       "      <td>8981</td>\n",
       "      <td>17.987097</td>\n",
       "      <td>2.416129</td>\n",
       "      <td>6.264516</td>\n",
       "      <td>115.79</td>\n",
       "    </tr>\n",
       "    <tr>\n",
       "      <th>260</th>\n",
       "      <td>2021-09</td>\n",
       "      <td>9030</td>\n",
       "      <td>16.935484</td>\n",
       "      <td>2.677419</td>\n",
       "      <td>5.325806</td>\n",
       "      <td>117.17</td>\n",
       "    </tr>\n",
       "    <tr>\n",
       "      <th>261</th>\n",
       "      <td>2021-10</td>\n",
       "      <td>9410</td>\n",
       "      <td>15.930000</td>\n",
       "      <td>2.160000</td>\n",
       "      <td>5.940000</td>\n",
       "      <td>123.29</td>\n",
       "    </tr>\n",
       "    <tr>\n",
       "      <th>262</th>\n",
       "      <td>2021-11</td>\n",
       "      <td>9678</td>\n",
       "      <td>11.612903</td>\n",
       "      <td>3.045161</td>\n",
       "      <td>3.945161</td>\n",
       "      <td>136.56</td>\n",
       "    </tr>\n",
       "    <tr>\n",
       "      <th>263</th>\n",
       "      <td>2021-12</td>\n",
       "      <td>10047</td>\n",
       "      <td>7.380000</td>\n",
       "      <td>2.383333</td>\n",
       "      <td>1.946667</td>\n",
       "      <td>163.61</td>\n",
       "    </tr>\n",
       "  </tbody>\n",
       "</table>\n",
       "<p>263 rows × 6 columns</p>\n",
       "</div>"
      ],
      "text/plain": [
       "       Datum  NettoVerbruikBerekend_30  Temp_last_month  Wind_last_month  \\\n",
       "1    2000-02                      8235         4.329032         3.980645   \n",
       "2    2000-03                      8738         5.855172         4.296552   \n",
       "3    2000-04                      7912         6.796774         3.677419   \n",
       "4    2000-05                      8221         9.986667         2.840000   \n",
       "5    2000-06                      7822        14.732258         2.900000   \n",
       "..       ...                       ...              ...              ...   \n",
       "259  2021-08                      8981        17.987097         2.416129   \n",
       "260  2021-09                      9030        16.935484         2.677419   \n",
       "261  2021-10                      9410        15.930000         2.160000   \n",
       "262  2021-11                      9678        11.612903         3.045161   \n",
       "263  2021-12                     10047         7.380000         2.383333   \n",
       "\n",
       "     Zon_last_month  Infl_last_month  \n",
       "1          1.806452            52.22  \n",
       "2          3.682759            52.29  \n",
       "3          2.583871            52.73  \n",
       "4          5.116667            52.74  \n",
       "5          6.780645            52.74  \n",
       "..              ...              ...  \n",
       "259        6.264516           115.79  \n",
       "260        5.325806           117.17  \n",
       "261        5.940000           123.29  \n",
       "262        3.945161           136.56  \n",
       "263        1.946667           163.61  \n",
       "\n",
       "[263 rows x 6 columns]"
      ]
     },
     "execution_count": 3,
     "metadata": {},
     "output_type": "execute_result"
    }
   ],
   "source": [
    "dataset.drop(columns=['Unnamed: 0'], inplace=True)\n",
    "dataset.dropna(inplace=True)\n",
    "dataset"
   ]
  },
  {
   "cell_type": "code",
   "execution_count": 4,
   "id": "c589f3f0-9df1-4982-884c-13ed7be467fd",
   "metadata": {},
   "outputs": [
    {
     "data": {
      "text/plain": [
       "Datum                        object\n",
       "NettoVerbruikBerekend_30      int64\n",
       "Temp_last_month             float64\n",
       "Wind_last_month             float64\n",
       "Zon_last_month              float64\n",
       "Infl_last_month             float64\n",
       "dtype: object"
      ]
     },
     "execution_count": 4,
     "metadata": {},
     "output_type": "execute_result"
    }
   ],
   "source": [
    "dataset.dtypes"
   ]
  },
  {
   "cell_type": "code",
   "execution_count": 5,
   "id": "2337b8c6-8abf-4faf-9e02-99c2865f46b5",
   "metadata": {},
   "outputs": [],
   "source": [
    "x = dataset.drop(['Datum', 'NettoVerbruikBerekend_30'], axis=1).values \n",
    "y = dataset['NettoVerbruikBerekend_30'].values"
   ]
  },
  {
   "cell_type": "code",
   "execution_count": 6,
   "id": "444af0e7",
   "metadata": {},
   "outputs": [
    {
     "data": {
      "text/plain": [
       "(263,)"
      ]
     },
     "execution_count": 6,
     "metadata": {},
     "output_type": "execute_result"
    }
   ],
   "source": [
    "y.shape"
   ]
  },
  {
   "cell_type": "code",
   "execution_count": 7,
   "id": "12286db0",
   "metadata": {},
   "outputs": [
    {
     "data": {
      "text/plain": [
       "(263, 4)"
      ]
     },
     "execution_count": 7,
     "metadata": {},
     "output_type": "execute_result"
    }
   ],
   "source": [
    "x.shape"
   ]
  },
  {
   "cell_type": "code",
   "execution_count": 8,
   "id": "f1de7da5-cc3c-4d44-a9e3-0a3fd1009869",
   "metadata": {},
   "outputs": [],
   "source": [
    "x_train, x_test, y_train, y_test = train_test_split(x, y, test_size = 0.3)"
   ]
  },
  {
   "cell_type": "code",
   "execution_count": 9,
   "id": "54608478-f266-466b-81c1-aad169bf9d6f",
   "metadata": {},
   "outputs": [
    {
     "data": {
      "text/html": [
       "<style>#sk-container-id-1 {color: black;background-color: white;}#sk-container-id-1 pre{padding: 0;}#sk-container-id-1 div.sk-toggleable {background-color: white;}#sk-container-id-1 label.sk-toggleable__label {cursor: pointer;display: block;width: 100%;margin-bottom: 0;padding: 0.3em;box-sizing: border-box;text-align: center;}#sk-container-id-1 label.sk-toggleable__label-arrow:before {content: \"▸\";float: left;margin-right: 0.25em;color: #696969;}#sk-container-id-1 label.sk-toggleable__label-arrow:hover:before {color: black;}#sk-container-id-1 div.sk-estimator:hover label.sk-toggleable__label-arrow:before {color: black;}#sk-container-id-1 div.sk-toggleable__content {max-height: 0;max-width: 0;overflow: hidden;text-align: left;background-color: #f0f8ff;}#sk-container-id-1 div.sk-toggleable__content pre {margin: 0.2em;color: black;border-radius: 0.25em;background-color: #f0f8ff;}#sk-container-id-1 input.sk-toggleable__control:checked~div.sk-toggleable__content {max-height: 200px;max-width: 100%;overflow: auto;}#sk-container-id-1 input.sk-toggleable__control:checked~label.sk-toggleable__label-arrow:before {content: \"▾\";}#sk-container-id-1 div.sk-estimator input.sk-toggleable__control:checked~label.sk-toggleable__label {background-color: #d4ebff;}#sk-container-id-1 div.sk-label input.sk-toggleable__control:checked~label.sk-toggleable__label {background-color: #d4ebff;}#sk-container-id-1 input.sk-hidden--visually {border: 0;clip: rect(1px 1px 1px 1px);clip: rect(1px, 1px, 1px, 1px);height: 1px;margin: -1px;overflow: hidden;padding: 0;position: absolute;width: 1px;}#sk-container-id-1 div.sk-estimator {font-family: monospace;background-color: #f0f8ff;border: 1px dotted black;border-radius: 0.25em;box-sizing: border-box;margin-bottom: 0.5em;}#sk-container-id-1 div.sk-estimator:hover {background-color: #d4ebff;}#sk-container-id-1 div.sk-parallel-item::after {content: \"\";width: 100%;border-bottom: 1px solid gray;flex-grow: 1;}#sk-container-id-1 div.sk-label:hover label.sk-toggleable__label {background-color: #d4ebff;}#sk-container-id-1 div.sk-serial::before {content: \"\";position: absolute;border-left: 1px solid gray;box-sizing: border-box;top: 0;bottom: 0;left: 50%;z-index: 0;}#sk-container-id-1 div.sk-serial {display: flex;flex-direction: column;align-items: center;background-color: white;padding-right: 0.2em;padding-left: 0.2em;position: relative;}#sk-container-id-1 div.sk-item {position: relative;z-index: 1;}#sk-container-id-1 div.sk-parallel {display: flex;align-items: stretch;justify-content: center;background-color: white;position: relative;}#sk-container-id-1 div.sk-item::before, #sk-container-id-1 div.sk-parallel-item::before {content: \"\";position: absolute;border-left: 1px solid gray;box-sizing: border-box;top: 0;bottom: 0;left: 50%;z-index: -1;}#sk-container-id-1 div.sk-parallel-item {display: flex;flex-direction: column;z-index: 1;position: relative;background-color: white;}#sk-container-id-1 div.sk-parallel-item:first-child::after {align-self: flex-end;width: 50%;}#sk-container-id-1 div.sk-parallel-item:last-child::after {align-self: flex-start;width: 50%;}#sk-container-id-1 div.sk-parallel-item:only-child::after {width: 0;}#sk-container-id-1 div.sk-dashed-wrapped {border: 1px dashed gray;margin: 0 0.4em 0.5em 0.4em;box-sizing: border-box;padding-bottom: 0.4em;background-color: white;}#sk-container-id-1 div.sk-label label {font-family: monospace;font-weight: bold;display: inline-block;line-height: 1.2em;}#sk-container-id-1 div.sk-label-container {text-align: center;}#sk-container-id-1 div.sk-container {/* jupyter's `normalize.less` sets `[hidden] { display: none; }` but bootstrap.min.css set `[hidden] { display: none !important; }` so we also need the `!important` here to be able to override the default hidden behavior on the sphinx rendered scikit-learn.org. See: https://github.com/scikit-learn/scikit-learn/issues/21755 */display: inline-block !important;position: relative;}#sk-container-id-1 div.sk-text-repr-fallback {display: none;}</style><div id=\"sk-container-id-1\" class=\"sk-top-container\"><div class=\"sk-text-repr-fallback\"><pre>LinearRegression()</pre><b>In a Jupyter environment, please rerun this cell to show the HTML representation or trust the notebook. <br />On GitHub, the HTML representation is unable to render, please try loading this page with nbviewer.org.</b></div><div class=\"sk-container\" hidden><div class=\"sk-item\"><div class=\"sk-estimator sk-toggleable\"><input class=\"sk-toggleable__control sk-hidden--visually\" id=\"sk-estimator-id-1\" type=\"checkbox\" checked><label for=\"sk-estimator-id-1\" class=\"sk-toggleable__label sk-toggleable__label-arrow\">LinearRegression</label><div class=\"sk-toggleable__content\"><pre>LinearRegression()</pre></div></div></div></div></div>"
      ],
      "text/plain": [
       "LinearRegression()"
      ]
     },
     "execution_count": 9,
     "metadata": {},
     "output_type": "execute_result"
    }
   ],
   "source": [
    "ml = LinearRegression()\n",
    "ml.fit(x_train,y_train)"
   ]
  },
  {
   "cell_type": "code",
   "execution_count": 10,
   "id": "97985534-10a4-4da1-9b54-6e99cadaa09b",
   "metadata": {},
   "outputs": [
    {
     "name": "stdout",
     "output_type": "stream",
     "text": [
      "[ 8664.29963368 10021.41657422  9503.51083434  9535.47430062\n",
      "  8760.67376517  9730.2492631   9367.99143827  9823.50026459\n",
      "  9118.82363598  9412.28945551  8696.84215283  9282.3964871\n",
      "  9030.65834274  9048.7576104   9305.7211088   8185.36291604\n",
      "  9003.35415229  8747.446697    9812.02817855  9808.76792022\n",
      "  9649.50809494  8988.77753389  8770.34897976  8880.27573873\n",
      "  8971.04748575  8966.34633955  8475.06416514 10109.81651948\n",
      "  8983.94894029  8871.46373873  9716.92657141  9730.73250242\n",
      "  8490.35088277  9755.33431729  9519.71564284  8313.67725624\n",
      "  8983.36837198  8824.51839066  9123.37446283  8515.76736183\n",
      "  9844.33082309  8665.17103947  9392.14374802  9175.32941507\n",
      "  8915.96365904  9134.20264134  8933.66744611  8831.47086443\n",
      "  9246.8998477   9866.88207475  8848.50050218  8490.53968351\n",
      "  9230.9789561   9671.88966839  9341.77002528  8882.04970196\n",
      "  8542.72269982  9275.30371432  9571.24425132  9847.89060964\n",
      "  9314.75521186 10156.31351366  9742.7828279   9204.20055657\n",
      "  9633.79176526  9659.36145404  9677.78991766  9071.30397193\n",
      "  9183.97099595  8419.62396664  9419.14402744  8874.10521911\n",
      "  9102.76029979  8613.71073875  8952.89260276  9540.54432517\n",
      "  9037.83128899  8549.3766804   9436.94957979]\n"
     ]
    }
   ],
   "source": [
    "y_pred=ml.predict(x_test)\n",
    "print(y_pred)"
   ]
  },
  {
   "cell_type": "code",
   "execution_count": 11,
   "id": "bcc5c371-7cce-49d3-a2ff-2a0f9a7c9c47",
   "metadata": {},
   "outputs": [
    {
     "data": {
      "text/plain": [
       "0.4384336569375845"
      ]
     },
     "execution_count": 11,
     "metadata": {},
     "output_type": "execute_result"
    }
   ],
   "source": [
    "r2_score(y_test,y_pred)"
   ]
  },
  {
   "cell_type": "code",
   "execution_count": 12,
   "id": "bd9f7c22-f5ee-4f34-85b4-387cef20a088",
   "metadata": {},
   "outputs": [
    {
     "data": {
      "text/plain": [
       "Text(0, 0.5, 'Predicted')"
      ]
     },
     "execution_count": 12,
     "metadata": {},
     "output_type": "execute_result"
    },
    {
     "data": {
      "image/png": "[encoded data removed]",
      "text/plain": [
       "<Figure size 640x480 with 1 Axes>"
      ]
     },
     "metadata": {},
     "output_type": "display_data"
    }
   ],
   "source": [
    "plt.scatter(y_test, y_pred)\n",
    "plt.xlabel('Actual')\n",
    "plt.ylabel('Predicted')"
   ]
  },
  {
   "cell_type": "code",
   "execution_count": 13,
   "id": "5100d509-fe2a-4749-b388-ec9219590a8a",
   "metadata": {},
   "outputs": [
    {
     "data": {
      "text/html": [
       "<div>\n",
       "<style scoped>\n",
       "    .dataframe tbody tr th:only-of-type {\n",
       "        vertical-align: middle;\n",
       "    }\n",
       "\n",
       "    .dataframe tbody tr th {\n",
       "        vertical-align: top;\n",
       "    }\n",
       "\n",
       "    .dataframe thead th {\n",
       "        text-align: right;\n",
       "    }\n",
       "</style>\n",
       "<table border=\"1\" class=\"dataframe\">\n",
       "  <thead>\n",
       "    <tr style=\"text-align: right;\">\n",
       "      <th></th>\n",
       "      <th>Actual value</th>\n",
       "      <th>Predicted value</th>\n",
       "      <th>Difference</th>\n",
       "    </tr>\n",
       "  </thead>\n",
       "  <tbody>\n",
       "    <tr>\n",
       "      <th>0</th>\n",
       "      <td>9032</td>\n",
       "      <td>8664.299634</td>\n",
       "      <td>367.700366</td>\n",
       "    </tr>\n",
       "    <tr>\n",
       "      <th>1</th>\n",
       "      <td>9577</td>\n",
       "      <td>10021.416574</td>\n",
       "      <td>-444.416574</td>\n",
       "    </tr>\n",
       "    <tr>\n",
       "      <th>2</th>\n",
       "      <td>9386</td>\n",
       "      <td>9503.510834</td>\n",
       "      <td>-117.510834</td>\n",
       "    </tr>\n",
       "    <tr>\n",
       "      <th>3</th>\n",
       "      <td>9765</td>\n",
       "      <td>9535.474301</td>\n",
       "      <td>229.525699</td>\n",
       "    </tr>\n",
       "    <tr>\n",
       "      <th>4</th>\n",
       "      <td>8573</td>\n",
       "      <td>8760.673765</td>\n",
       "      <td>-187.673765</td>\n",
       "    </tr>\n",
       "    <tr>\n",
       "      <th>5</th>\n",
       "      <td>10263</td>\n",
       "      <td>9730.249263</td>\n",
       "      <td>532.750737</td>\n",
       "    </tr>\n",
       "    <tr>\n",
       "      <th>6</th>\n",
       "      <td>9066</td>\n",
       "      <td>9367.991438</td>\n",
       "      <td>-301.991438</td>\n",
       "    </tr>\n",
       "    <tr>\n",
       "      <th>7</th>\n",
       "      <td>10287</td>\n",
       "      <td>9823.500265</td>\n",
       "      <td>463.499735</td>\n",
       "    </tr>\n",
       "    <tr>\n",
       "      <th>8</th>\n",
       "      <td>8469</td>\n",
       "      <td>9118.823636</td>\n",
       "      <td>-649.823636</td>\n",
       "    </tr>\n",
       "    <tr>\n",
       "      <th>9</th>\n",
       "      <td>8597</td>\n",
       "      <td>9412.289456</td>\n",
       "      <td>-815.289456</td>\n",
       "    </tr>\n",
       "    <tr>\n",
       "      <th>10</th>\n",
       "      <td>8738</td>\n",
       "      <td>8696.842153</td>\n",
       "      <td>41.157847</td>\n",
       "    </tr>\n",
       "    <tr>\n",
       "      <th>11</th>\n",
       "      <td>9328</td>\n",
       "      <td>9282.396487</td>\n",
       "      <td>45.603513</td>\n",
       "    </tr>\n",
       "    <tr>\n",
       "      <th>12</th>\n",
       "      <td>7912</td>\n",
       "      <td>9030.658343</td>\n",
       "      <td>-1118.658343</td>\n",
       "    </tr>\n",
       "    <tr>\n",
       "      <th>13</th>\n",
       "      <td>8738</td>\n",
       "      <td>9048.757610</td>\n",
       "      <td>-310.757610</td>\n",
       "    </tr>\n",
       "    <tr>\n",
       "      <th>14</th>\n",
       "      <td>8156</td>\n",
       "      <td>9305.721109</td>\n",
       "      <td>-1149.721109</td>\n",
       "    </tr>\n",
       "    <tr>\n",
       "      <th>15</th>\n",
       "      <td>8984</td>\n",
       "      <td>8185.362916</td>\n",
       "      <td>798.637084</td>\n",
       "    </tr>\n",
       "    <tr>\n",
       "      <th>16</th>\n",
       "      <td>8636</td>\n",
       "      <td>9003.354152</td>\n",
       "      <td>-367.354152</td>\n",
       "    </tr>\n",
       "    <tr>\n",
       "      <th>17</th>\n",
       "      <td>8467</td>\n",
       "      <td>8747.446697</td>\n",
       "      <td>-280.446697</td>\n",
       "    </tr>\n",
       "    <tr>\n",
       "      <th>18</th>\n",
       "      <td>10279</td>\n",
       "      <td>9812.028179</td>\n",
       "      <td>466.971821</td>\n",
       "    </tr>\n",
       "    <tr>\n",
       "      <th>19</th>\n",
       "      <td>9044</td>\n",
       "      <td>9808.767920</td>\n",
       "      <td>-764.767920</td>\n",
       "    </tr>\n",
       "  </tbody>\n",
       "</table>\n",
       "</div>"
      ],
      "text/plain": [
       "    Actual value  Predicted value   Difference\n",
       "0           9032      8664.299634   367.700366\n",
       "1           9577     10021.416574  -444.416574\n",
       "2           9386      9503.510834  -117.510834\n",
       "3           9765      9535.474301   229.525699\n",
       "4           8573      8760.673765  -187.673765\n",
       "5          10263      9730.249263   532.750737\n",
       "6           9066      9367.991438  -301.991438\n",
       "7          10287      9823.500265   463.499735\n",
       "8           8469      9118.823636  -649.823636\n",
       "9           8597      9412.289456  -815.289456\n",
       "10          8738      8696.842153    41.157847\n",
       "11          9328      9282.396487    45.603513\n",
       "12          7912      9030.658343 -1118.658343\n",
       "13          8738      9048.757610  -310.757610\n",
       "14          8156      9305.721109 -1149.721109\n",
       "15          8984      8185.362916   798.637084\n",
       "16          8636      9003.354152  -367.354152\n",
       "17          8467      8747.446697  -280.446697\n",
       "18         10279      9812.028179   466.971821\n",
       "19          9044      9808.767920  -764.767920"
      ]
     },
     "execution_count": 13,
     "metadata": {},
     "output_type": "execute_result"
    }
   ],
   "source": [
    "pred_y_dataset=pd.DataFrame({'Actual value':y_test,'Predicted value':y_pred, 'Difference':y_test-y_pred})\n",
    "pred_y_dataset[0:20]"
   ]
  },
  {
   "cell_type": "code",
   "execution_count": null,
   "id": "55e23b71-17ac-4ea5-b5a6-e3caac1bb732",
   "metadata": {},
   "outputs": [],
   "source": []
  }
 ],
 "metadata": {
  "kernelspec": {
   "display_name": "Python 3 (ipykernel)",
   "language": "python",
   "name": "python3"
  },
  "language_info": {
   "codemirror_mode": {
    "name": "ipython",
    "version": 3
   },
   "file_extension": ".py",
   "mimetype": "text/x-python",
   "name": "python",
   "nbconvert_exporter": "python",
   "pygments_lexer": "ipython3",
   "version": "3.10.6"
  }
 },
 "nbformat": 4,
 "nbformat_minor": 5
}
