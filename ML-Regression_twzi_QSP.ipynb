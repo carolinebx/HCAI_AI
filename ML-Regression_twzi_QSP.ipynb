{
 "cells": [
  {
   "cell_type": "markdown",
   "id": "32086ee9-7811-470a-8262-f9cadaf2d7f2",
   "metadata": {},
   "source": [
    "Het uitvoeren van een machine learning model met extra features \n",
    "\n",
    "Het doel van het notebook is om te kijken of het machine learning model een hogere r2 en een lagere root mean squared error heeft als de feature globale straling en percentage zonuren is toegevoegd.\n",
    "\n",
    "Uit verschillende onderzoeken blijkt dat naast het aantal zonuren de zonnestraling een belangrijke feature is (Gupta, 2022), (Zhao, 2012). De KNMI heeft ook data beschikbaar over de globale straling en deze is gebruikt in het model. Ook heeft de KNMI data beschikbaar over het percentage zonuren op een dag, deze feature is ook meegenomen in het model. "
   ]
  },
  {
   "cell_type": "code",
   "execution_count": 53,
   "id": "55e88eb3-8d11-4410-81cb-0e81daefaaa6",
   "metadata": {},
   "outputs": [],
   "source": [
    "import numpy as np\n",
    "import pandas as pd\n",
    "import seaborn as sns\n",
    "import matplotlib.pyplot as plt\n",
    "from sklearn import preprocessing, svm\n",
    "from sklearn.model_selection import train_test_split\n",
    "from sklearn.linear_model import LinearRegression\n",
    "from sklearn.metrics import r2_score\n",
    "from sklearn.metrics import mean_squared_error, mean_absolute_error"
   ]
  },
  {
   "cell_type": "markdown",
   "id": "bbe8af87-2f23-4e32-94eb-263cf5abbce0",
   "metadata": {},
   "source": [
    "De dataset waarbij de waarde van de laatste maand heeft wordt opgehaald en leesbaar gemaakt. Alle features worden in het model meegenomen."
   ]
  },
  {
   "cell_type": "code",
   "execution_count": 54,
   "id": "9927f020-6863-4c50-aa4e-ac60e8e9d2ed",
   "metadata": {},
   "outputs": [],
   "source": [
    "dataset = pd.read_csv('Data_laatste_maand.csv')"
   ]
  },
  {
   "cell_type": "code",
   "execution_count": 55,
   "id": "d1838db1-f3bb-47d0-96c5-ee455f17bfd6",
   "metadata": {},
   "outputs": [
    {
     "data": {
      "text/html": [
       "<div>\n",
       "<style scoped>\n",
       "    .dataframe tbody tr th:only-of-type {\n",
       "        vertical-align: middle;\n",
       "    }\n",
       "\n",
       "    .dataframe tbody tr th {\n",
       "        vertical-align: top;\n",
       "    }\n",
       "\n",
       "    .dataframe thead th {\n",
       "        text-align: right;\n",
       "    }\n",
       "</style>\n",
       "<table border=\"1\" class=\"dataframe\">\n",
       "  <thead>\n",
       "    <tr style=\"text-align: right;\">\n",
       "      <th></th>\n",
       "      <th>Datum</th>\n",
       "      <th>NettoVerbruikBerekend_30</th>\n",
       "      <th>Temp_last_month</th>\n",
       "      <th>Wind_last_month</th>\n",
       "      <th>Zon_last_month</th>\n",
       "      <th>Infl_last_month</th>\n",
       "      <th>Q_last_month</th>\n",
       "      <th>SP_last_month</th>\n",
       "    </tr>\n",
       "  </thead>\n",
       "  <tbody>\n",
       "    <tr>\n",
       "      <th>0</th>\n",
       "      <td>2000-01</td>\n",
       "      <td>8847</td>\n",
       "      <td>NaN</td>\n",
       "      <td>NaN</td>\n",
       "      <td>NaN</td>\n",
       "      <td>NaN</td>\n",
       "      <td>NaN</td>\n",
       "      <td>NaN</td>\n",
       "    </tr>\n",
       "    <tr>\n",
       "      <th>1</th>\n",
       "      <td>2000-02</td>\n",
       "      <td>8235</td>\n",
       "      <td>4.329032</td>\n",
       "      <td>3.980645</td>\n",
       "      <td>1.806452</td>\n",
       "      <td>52.22</td>\n",
       "      <td>201.774194</td>\n",
       "      <td>21.838710</td>\n",
       "    </tr>\n",
       "    <tr>\n",
       "      <th>2</th>\n",
       "      <td>2000-03</td>\n",
       "      <td>8738</td>\n",
       "      <td>5.855172</td>\n",
       "      <td>4.296552</td>\n",
       "      <td>3.682759</td>\n",
       "      <td>52.29</td>\n",
       "      <td>484.310345</td>\n",
       "      <td>36.827586</td>\n",
       "    </tr>\n",
       "    <tr>\n",
       "      <th>3</th>\n",
       "      <td>2000-04</td>\n",
       "      <td>7912</td>\n",
       "      <td>6.796774</td>\n",
       "      <td>3.677419</td>\n",
       "      <td>2.583871</td>\n",
       "      <td>52.73</td>\n",
       "      <td>629.258065</td>\n",
       "      <td>21.967742</td>\n",
       "    </tr>\n",
       "    <tr>\n",
       "      <th>4</th>\n",
       "      <td>2000-05</td>\n",
       "      <td>8221</td>\n",
       "      <td>9.986667</td>\n",
       "      <td>2.840000</td>\n",
       "      <td>5.116667</td>\n",
       "      <td>52.74</td>\n",
       "      <td>1263.600000</td>\n",
       "      <td>37.066667</td>\n",
       "    </tr>\n",
       "    <tr>\n",
       "      <th>...</th>\n",
       "      <td>...</td>\n",
       "      <td>...</td>\n",
       "      <td>...</td>\n",
       "      <td>...</td>\n",
       "      <td>...</td>\n",
       "      <td>...</td>\n",
       "      <td>...</td>\n",
       "      <td>...</td>\n",
       "    </tr>\n",
       "    <tr>\n",
       "      <th>259</th>\n",
       "      <td>2021-08</td>\n",
       "      <td>8981</td>\n",
       "      <td>17.987097</td>\n",
       "      <td>2.416129</td>\n",
       "      <td>6.264516</td>\n",
       "      <td>115.79</td>\n",
       "      <td>1674.290323</td>\n",
       "      <td>38.677419</td>\n",
       "    </tr>\n",
       "    <tr>\n",
       "      <th>260</th>\n",
       "      <td>2021-09</td>\n",
       "      <td>9030</td>\n",
       "      <td>16.935484</td>\n",
       "      <td>2.677419</td>\n",
       "      <td>5.325806</td>\n",
       "      <td>117.17</td>\n",
       "      <td>1391.612903</td>\n",
       "      <td>36.258065</td>\n",
       "    </tr>\n",
       "    <tr>\n",
       "      <th>261</th>\n",
       "      <td>2021-10</td>\n",
       "      <td>9410</td>\n",
       "      <td>15.930000</td>\n",
       "      <td>2.160000</td>\n",
       "      <td>5.940000</td>\n",
       "      <td>123.29</td>\n",
       "      <td>1165.900000</td>\n",
       "      <td>46.433333</td>\n",
       "    </tr>\n",
       "    <tr>\n",
       "      <th>262</th>\n",
       "      <td>2021-11</td>\n",
       "      <td>9678</td>\n",
       "      <td>11.612903</td>\n",
       "      <td>3.045161</td>\n",
       "      <td>3.945161</td>\n",
       "      <td>136.56</td>\n",
       "      <td>619.709677</td>\n",
       "      <td>36.774194</td>\n",
       "    </tr>\n",
       "    <tr>\n",
       "      <th>263</th>\n",
       "      <td>2021-12</td>\n",
       "      <td>10047</td>\n",
       "      <td>7.380000</td>\n",
       "      <td>2.383333</td>\n",
       "      <td>1.946667</td>\n",
       "      <td>163.61</td>\n",
       "      <td>276.566667</td>\n",
       "      <td>22.033333</td>\n",
       "    </tr>\n",
       "  </tbody>\n",
       "</table>\n",
       "<p>264 rows × 8 columns</p>\n",
       "</div>"
      ],
      "text/plain": [
       "       Datum  NettoVerbruikBerekend_30  Temp_last_month  Wind_last_month  \\\n",
       "0    2000-01                      8847              NaN              NaN   \n",
       "1    2000-02                      8235         4.329032         3.980645   \n",
       "2    2000-03                      8738         5.855172         4.296552   \n",
       "3    2000-04                      7912         6.796774         3.677419   \n",
       "4    2000-05                      8221         9.986667         2.840000   \n",
       "..       ...                       ...              ...              ...   \n",
       "259  2021-08                      8981        17.987097         2.416129   \n",
       "260  2021-09                      9030        16.935484         2.677419   \n",
       "261  2021-10                      9410        15.930000         2.160000   \n",
       "262  2021-11                      9678        11.612903         3.045161   \n",
       "263  2021-12                     10047         7.380000         2.383333   \n",
       "\n",
       "     Zon_last_month  Infl_last_month  Q_last_month  SP_last_month  \n",
       "0               NaN              NaN           NaN            NaN  \n",
       "1          1.806452            52.22    201.774194      21.838710  \n",
       "2          3.682759            52.29    484.310345      36.827586  \n",
       "3          2.583871            52.73    629.258065      21.967742  \n",
       "4          5.116667            52.74   1263.600000      37.066667  \n",
       "..              ...              ...           ...            ...  \n",
       "259        6.264516           115.79   1674.290323      38.677419  \n",
       "260        5.325806           117.17   1391.612903      36.258065  \n",
       "261        5.940000           123.29   1165.900000      46.433333  \n",
       "262        3.945161           136.56    619.709677      36.774194  \n",
       "263        1.946667           163.61    276.566667      22.033333  \n",
       "\n",
       "[264 rows x 8 columns]"
      ]
     },
     "execution_count": 55,
     "metadata": {},
     "output_type": "execute_result"
    }
   ],
   "source": [
    "dataset.drop(columns=['Unnamed: 0'], inplace=True)\n",
    "dataset"
   ]
  },
  {
   "cell_type": "markdown",
   "id": "9632c0c7-6638-44ea-a5ba-42bc204ee2ef",
   "metadata": {},
   "source": [
    "Doordat de waarde een plaats is opgeschoven is er voor de features in januari 200 geen waarde bekend. Met de dropna functie wordt deze rij uit de dataset gehaald."
   ]
  },
  {
   "cell_type": "code",
   "execution_count": 56,
   "id": "c589f3f0-9df1-4982-884c-13ed7be467fd",
   "metadata": {},
   "outputs": [],
   "source": [
    "dataset.dropna(inplace=True)"
   ]
  },
  {
   "cell_type": "markdown",
   "id": "56acaf29-0923-4996-92f0-001bae1e429a",
   "metadata": {},
   "source": [
    "Met de correlatie functie wordt er gekeken of er een relatie is tussen de features. Wanneer de waarde negatief is, is er sprake van een negatieve relatie. De relatie is sterk wanneer deze boven de 0.5 of onder de -0.5 ligt. Hoe dichter de waarde bij de 1 of -1 ligt, hoe sterker de relatie is. Uit de resultaten van het correlatie model blijkt dat de zonnestraling (Q_last_month) een sterke relatie heeft met het energie verbruik en zelfs een sterkere relatie heeft dan het aantal zonuren. Het percentage zonuren (SP_last_month) heeft een wat minder sterke relatie."
   ]
  },
  {
   "cell_type": "code",
   "execution_count": 57,
   "id": "df52ad54-1646-489d-af3e-49671a30ac00",
   "metadata": {},
   "outputs": [
    {
     "data": {
      "text/html": [
       "<div>\n",
       "<style scoped>\n",
       "    .dataframe tbody tr th:only-of-type {\n",
       "        vertical-align: middle;\n",
       "    }\n",
       "\n",
       "    .dataframe tbody tr th {\n",
       "        vertical-align: top;\n",
       "    }\n",
       "\n",
       "    .dataframe thead th {\n",
       "        text-align: right;\n",
       "    }\n",
       "</style>\n",
       "<table border=\"1\" class=\"dataframe\">\n",
       "  <thead>\n",
       "    <tr style=\"text-align: right;\">\n",
       "      <th></th>\n",
       "      <th>NettoVerbruikBerekend_30</th>\n",
       "      <th>Temp_last_month</th>\n",
       "      <th>Wind_last_month</th>\n",
       "      <th>Zon_last_month</th>\n",
       "      <th>Infl_last_month</th>\n",
       "      <th>Q_last_month</th>\n",
       "      <th>SP_last_month</th>\n",
       "    </tr>\n",
       "  </thead>\n",
       "  <tbody>\n",
       "    <tr>\n",
       "      <th>NettoVerbruikBerekend_30</th>\n",
       "      <td>1.000000</td>\n",
       "      <td>-0.421654</td>\n",
       "      <td>0.212029</td>\n",
       "      <td>-0.603668</td>\n",
       "      <td>0.382205</td>\n",
       "      <td>-0.660923</td>\n",
       "      <td>-0.471734</td>\n",
       "    </tr>\n",
       "    <tr>\n",
       "      <th>Temp_last_month</th>\n",
       "      <td>-0.421654</td>\n",
       "      <td>1.000000</td>\n",
       "      <td>-0.598220</td>\n",
       "      <td>0.740483</td>\n",
       "      <td>0.021698</td>\n",
       "      <td>0.816944</td>\n",
       "      <td>0.542551</td>\n",
       "    </tr>\n",
       "    <tr>\n",
       "      <th>Wind_last_month</th>\n",
       "      <td>0.212029</td>\n",
       "      <td>-0.598220</td>\n",
       "      <td>1.000000</td>\n",
       "      <td>-0.543774</td>\n",
       "      <td>-0.061670</td>\n",
       "      <td>-0.569440</td>\n",
       "      <td>-0.448990</td>\n",
       "    </tr>\n",
       "    <tr>\n",
       "      <th>Zon_last_month</th>\n",
       "      <td>-0.603668</td>\n",
       "      <td>0.740483</td>\n",
       "      <td>-0.543774</td>\n",
       "      <td>1.000000</td>\n",
       "      <td>0.049243</td>\n",
       "      <td>0.947282</td>\n",
       "      <td>0.921413</td>\n",
       "    </tr>\n",
       "    <tr>\n",
       "      <th>Infl_last_month</th>\n",
       "      <td>0.382205</td>\n",
       "      <td>0.021698</td>\n",
       "      <td>-0.061670</td>\n",
       "      <td>0.049243</td>\n",
       "      <td>1.000000</td>\n",
       "      <td>0.017762</td>\n",
       "      <td>0.072853</td>\n",
       "    </tr>\n",
       "    <tr>\n",
       "      <th>Q_last_month</th>\n",
       "      <td>-0.660923</td>\n",
       "      <td>0.816944</td>\n",
       "      <td>-0.569440</td>\n",
       "      <td>0.947282</td>\n",
       "      <td>0.017762</td>\n",
       "      <td>1.000000</td>\n",
       "      <td>0.754597</td>\n",
       "    </tr>\n",
       "    <tr>\n",
       "      <th>SP_last_month</th>\n",
       "      <td>-0.471734</td>\n",
       "      <td>0.542551</td>\n",
       "      <td>-0.448990</td>\n",
       "      <td>0.921413</td>\n",
       "      <td>0.072853</td>\n",
       "      <td>0.754597</td>\n",
       "      <td>1.000000</td>\n",
       "    </tr>\n",
       "  </tbody>\n",
       "</table>\n",
       "</div>"
      ],
      "text/plain": [
       "                          NettoVerbruikBerekend_30  Temp_last_month  \\\n",
       "NettoVerbruikBerekend_30                  1.000000        -0.421654   \n",
       "Temp_last_month                          -0.421654         1.000000   \n",
       "Wind_last_month                           0.212029        -0.598220   \n",
       "Zon_last_month                           -0.603668         0.740483   \n",
       "Infl_last_month                           0.382205         0.021698   \n",
       "Q_last_month                             -0.660923         0.816944   \n",
       "SP_last_month                            -0.471734         0.542551   \n",
       "\n",
       "                          Wind_last_month  Zon_last_month  Infl_last_month  \\\n",
       "NettoVerbruikBerekend_30         0.212029       -0.603668         0.382205   \n",
       "Temp_last_month                 -0.598220        0.740483         0.021698   \n",
       "Wind_last_month                  1.000000       -0.543774        -0.061670   \n",
       "Zon_last_month                  -0.543774        1.000000         0.049243   \n",
       "Infl_last_month                 -0.061670        0.049243         1.000000   \n",
       "Q_last_month                    -0.569440        0.947282         0.017762   \n",
       "SP_last_month                   -0.448990        0.921413         0.072853   \n",
       "\n",
       "                          Q_last_month  SP_last_month  \n",
       "NettoVerbruikBerekend_30     -0.660923      -0.471734  \n",
       "Temp_last_month               0.816944       0.542551  \n",
       "Wind_last_month              -0.569440      -0.448990  \n",
       "Zon_last_month                0.947282       0.921413  \n",
       "Infl_last_month               0.017762       0.072853  \n",
       "Q_last_month                  1.000000       0.754597  \n",
       "SP_last_month                 0.754597       1.000000  "
      ]
     },
     "execution_count": 57,
     "metadata": {},
     "output_type": "execute_result"
    }
   ],
   "source": [
    "dataset.corr()"
   ]
  },
  {
   "cell_type": "markdown",
   "id": "ac790909-7a0f-41df-8ad7-8049d9cd9a3b",
   "metadata": {},
   "source": [
    "De eerste stap in een regressie model is het bepalen van de X en y waarden. Vervolgens wordt de data verdeeld in een test dataset en een train dataset. Door dit te doen kan er met die waarden gecontroleerd worden of het model goed voorspeld. Met de r2 score wordt berekent hoeveel variantie er in de features wordt verklaard door de energieconsumptie. Hoe dichter de waarde bij de 1 ligt, hoe meer de features verklaard worden door de energieconsumptie. De root mean squared error geeft het verschil weer tussen de voorspelde en werkelijke waarde weer. "
   ]
  },
  {
   "cell_type": "code",
   "execution_count": 58,
   "id": "97247929-9f38-45f4-91ca-a7ed07fb1a09",
   "metadata": {},
   "outputs": [],
   "source": [
    "X = dataset[['Temp_last_month', 'Wind_last_month', 'Zon_last_month', 'Infl_last_month', 'Q_last_month', 'SP_last_month']].values\n",
    "y = dataset['NettoVerbruikBerekend_30'].values "
   ]
  },
  {
   "cell_type": "code",
   "execution_count": 59,
   "id": "f1de7da5-cc3c-4d44-a9e3-0a3fd1009869",
   "metadata": {},
   "outputs": [],
   "source": [
    "x_train, x_test, y_train, y_test = train_test_split(X, y, test_size = 0.2, random_state = 42)"
   ]
  },
  {
   "cell_type": "code",
   "execution_count": 60,
   "id": "54608478-f266-466b-81c1-aad169bf9d6f",
   "metadata": {},
   "outputs": [
    {
     "data": {
      "text/plain": [
       "array([ 8844.02459693,  9518.56989871,  9314.02674051,  9950.47458658,\n",
       "        8744.91747826,  9908.0689009 ,  9537.42330053,  9900.907135  ,\n",
       "        9147.50595958,  8640.77115572,  9135.57773692,  9094.94325435,\n",
       "        9549.53702469,  9289.7370485 ,  9452.93206397, 10111.0892182 ,\n",
       "        9047.02899663,  8264.93284485,  8762.50780748,  8901.37644747,\n",
       "        9617.66797307,  8850.87088951,  8569.08982233,  9290.80428742,\n",
       "        9993.83617889,  8555.26894418,  8957.27568339,  9420.15263308,\n",
       "        8708.20579597,  8305.90365307,  8307.41485035,  8825.872588  ,\n",
       "        8928.71369177,  9238.14291013,  9183.00194857,  9723.17472999,\n",
       "        9658.18258894, 10022.77631411,  8712.61167629,  9142.08642702,\n",
       "        9640.9623777 ,  9177.65073727,  9577.30350972,  8571.96364705,\n",
       "        8749.29288783,  9487.78354846,  9735.84788777,  8305.76858289,\n",
       "        9223.61014943,  9792.641588  ,  9435.86065859,  9118.56560255,\n",
       "        8747.65014542])"
      ]
     },
     "execution_count": 60,
     "metadata": {},
     "output_type": "execute_result"
    }
   ],
   "source": [
    "LR = LinearRegression()\n",
    "LR.fit(x_train,y_train)\n",
    "y_prediction =  LR.predict(x_test)\n",
    "y_prediction"
   ]
  },
  {
   "cell_type": "code",
   "execution_count": 61,
   "id": "97985534-10a4-4da1-9b54-6e99cadaa09b",
   "metadata": {},
   "outputs": [
    {
     "name": "stdout",
     "output_type": "stream",
     "text": [
      "r2 score =  0.6911087303012194\n",
      "root_mean_squared error of =  337.7489760992334\n"
     ]
    }
   ],
   "source": [
    "score=r2_score(y_test,y_prediction)\n",
    "print('r2 score = ',score)\n",
    "print('root_mean_squared error of = ',np.sqrt(mean_squared_error(y_test,y_prediction)))"
   ]
  },
  {
   "cell_type": "markdown",
   "id": "8f1530f9-c495-4baf-92f9-9ca4f0569687",
   "metadata": {},
   "source": [
    "In de tabel hieronder zijn de resultaten te zien van de r2 en de root mean squered error wanneer er met de features gevarieerd wordt. In de X zijn de features temperatuur, wind en inflatie altijd meegenomen, alleen de feature zonuren, zonnestraling (Q) en percentage zonuren (SP) variëren. Uit de tabel kan geconcludeerd worden dat het machine learning model het best presteert wanneer alle zon features (zonuren, zonnestraling (Q) en percentage zonuren (SP)) zijn meegenomen. Wat daarnaast opvalt is dat de feature percentage zonuren niet veel toevoegt en op zichzelf ook niet goed presteert."
   ]
  },
  {
   "cell_type": "markdown",
   "id": "24a63639-c674-4a3b-8a58-d84edd229bb3",
   "metadata": {},
   "source": [
    "|  | r2 | Root mean squared error |\n",
    "| --- | --- | --- |\n",
    "| Zonuren | 0.48 | 437.12 |\n",
    "| Zonuren, Q | 0.66 | 354.17 |\n",
    "| Zonuren, SP | 0.58 | 392.83 |\n",
    "| Zonuren, Q, SP | 0.69 | 337.75 |\n",
    "| Q | 0.65 | 359.80 |\n",
    "| SP | 0.37 | 481.15 |\n",
    "| Q & SP | 0.65 | 357.74 |"
   ]
  },
  {
   "cell_type": "markdown",
   "id": "fa5cdb64-fa6b-4451-a55e-771cd3bef2f4",
   "metadata": {},
   "source": [
    "Bronnenlijst\n",
    "Gupta, A. (2022, augustus 23). Python | Linear Regression using sklearn. Opgehaald van geeks for geeks: https://www.geeksforgeeks.org/python-linear-regression-using-sklearn/\n",
    "Zhao, H.-x. (2012, april 27). A review on the prediction of building energy consumption. Opgehaald van ScienceDirect: https://www.sciencedirect.com/science/article/pii/S1364032112001438"
   ]
  }
 ],
 "metadata": {
  "kernelspec": {
   "display_name": "Python 3 (ipykernel)",
   "language": "python",
   "name": "python3"
  },
  "language_info": {
   "codemirror_mode": {
    "name": "ipython",
    "version": 3
   },
   "file_extension": ".py",
   "mimetype": "text/x-python",
   "name": "python",
   "nbconvert_exporter": "python",
   "pygments_lexer": "ipython3",
   "version": "3.10.6"
  }
 },
 "nbformat": 4,
 "nbformat_minor": 5
}
